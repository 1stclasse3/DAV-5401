{
 "cells": [
  {
   "cell_type": "markdown",
   "metadata": {},
   "source": [
    "# H1B Visa Analysis: Evelyn Yoon & Sangwon Lee"
   ]
  },
  {
   "cell_type": "markdown",
   "metadata": {},
   "source": [
    "## Introduction\n",
    "The H1B visa is an employment-based, non-immigrant visa for temporary workers. For this visa, an employer must offer a job in the US and apply for your H1B visa petition with the US Immigration Department. This approved petition is a work permit which allows you to obtain a visa stamp and work in the U.S. for that employer.\n",
    "\n",
    "The H1B visa is issued for a specialty occupation, requires theoretical and practical application of a body of specialized knowledge and requires the visa holder to have at least a Bachelor's degree or its equivalent. The process of H1B is based on lottery system, which is a computer-generated random selection process that the USCIS uses to randomly pick H1B visa applicants to approve. \n",
    "\n",
    "Both of us are currently planning to apply for H1B visa this year and hoping that we could work in the United States after finishing our program. Therefore, we have decided to dig into the dataset that give us an overall understanding of H1B visa petitions and applicants. The main dataset has records from H1B visa applications for the years 2011-2016. The only thing we were a bit frustrated about this dataset was no data for the country of origin of the applicant. As we know, the origin of country where the applicants from matters for the chance of getting approved H1B. Still, we could use a variety of data including types of job, salaries, employers, states, and more."
   ]
  },
  {
   "cell_type": "markdown",
   "metadata": {},
   "source": [
    "## Research Questions\n",
    "In this basic analysis of h-1b visa petition, we'd like to figure out below questions:\n",
    "\n",
    "1. How the trend of total petitions has been changed over recent years?\n",
    "2. What is the most popular job of those that applying the visa? Which employers file the most petitions each year?\n",
    "3. Which job has the highest wage? \n",
    "4. In which cities were the foreigners able to find jobs?\n",
    "5. What’s the wage distribution for H1B applicants? \n"
   ]
  },
  {
   "cell_type": "markdown",
   "metadata": {},
   "source": [
    "## Data to be Used\n",
    "\n",
    "The main data we will use for this project is H-1B Visa Petitions 2011-2016 data from Kaggle: https://www.kaggle.com/nsharan/h-1b-visa. We will save the data in csv. file then import it into python. Since it only has the data from 2011 to 2016, we would like to get another dataset for the year of 2017 or 2018. This time we will collect the data via scraping of a web page. We might going to use H1B Data Set 2017 from Kaggle: https://www.kaggle.com/jonamjar/h1b-data-set-2017."
   ]
  },
  {
   "cell_type": "markdown",
   "metadata": {},
   "source": [
    "## Approach\n",
    "\n",
    "Since one of our data is in csv. file and the other one is from web scraping, we will use pd.read_csv to open the csv.file and requests.get to import the data from the web. Fortunately, Kaggle has a great API that we can use. Once we import the data into python, we will transform them into Pandas DataFrame. Now, we can join those two tables into one to perform statistical analysis to answer our research questions. \n",
    "\n",
    "In this project, we will use different types of graphics. For the first questions regarding  the trend of total petitions, we will use plt function to generate a line graph and see the trend of total petitions over the years. For the second and third question, we’re thinking to use a seaborn barplot to analyze the most popular job, most petitions per each year, and the overall wages. Using a barplot, we will be able to see not only the ranking of the jobs and wages, but also be able to compare the jobs and wages in different cities or industries. To find the answer for the question in which cities were the foreigners able to find jobs, we will try to use map function to see the number of petitions per each city. Map is very powerful visualization that allow viewers to read the data effectively. By showing the result in different color and size in map, viewers will be able to see the answer for the question instantly. This can be the one that we did not cover in class. For the last research question, wage distribution for H1B applicants, histogram would be ideal type to show the result. \n",
    "\n",
    "Our purpose for this project is that giving a better understanding of H1B results not only to ourselves, but also to all the prospective H1B applicants. We always have questioned how we can increase the chances to get a H1B visa, and our project could be a great guide for those who have same concerns as we have. \n"
   ]
  }
 ],
 "metadata": {
  "kernelspec": {
   "display_name": "Python 3",
   "language": "python",
   "name": "python3"
  },
  "language_info": {
   "codemirror_mode": {
    "name": "ipython",
    "version": 3
   },
   "file_extension": ".py",
   "mimetype": "text/x-python",
   "name": "python",
   "nbconvert_exporter": "python",
   "pygments_lexer": "ipython3",
   "version": "3.6.5"
  }
 },
 "nbformat": 4,
 "nbformat_minor": 2
}
