{
 "cells": [
  {
   "cell_type": "code",
   "execution_count": 9,
   "metadata": {},
   "outputs": [
    {
     "name": "stdout",
     "output_type": "stream",
     "text": [
      "['high', 'high', '2', '4', 'med', 'low', 'unacc']\n",
      "['high', 'high', '4', 'more', 'small', 'high', 'acc']\n",
      "['high', 'high', '4', 'more', 'big', 'low', 'unacc']\n",
      "['high', 'low', '2', 'more', 'big', 'high', 'acc']\n",
      "['vhigh', 'low', '3', '2', 'med', 'med', 'unacc']\n",
      "['low', 'high', '2', '2', 'small', 'low', 'unacc']\n",
      "['med', 'med', '4', 'more', 'med', 'high', 'vgood']\n",
      "['low', 'low', '3', '2', 'big', 'med', 'unacc']\n",
      "['vhigh', 'low', '2', '2', 'small', 'low', 'unacc']\n",
      "['vhigh', 'high', '4', '4', 'med', 'low', 'unacc']\n",
      "['low', 'low', '2', '2', 'med', 'med', 'unacc']\n",
      "['vhigh', 'low', '4', 'more', 'small', 'high', 'acc']\n",
      "['high', 'low', '2', '4', 'big', 'med', 'acc']\n",
      "['low', 'vhigh', '3', 'more', 'big', 'low', 'unacc']\n",
      "['high', 'low', '5more', '2', 'big', 'med', 'unacc']\n",
      "['vhigh', 'high', '2', 'more', 'med', 'high', 'unacc']\n",
      "['med', 'med', '2', '2', 'small', 'low', 'unacc']\n",
      "['high', 'low', '5more', '4', 'med', 'high', 'acc']\n",
      "['low', 'low', '3', 'more', 'med', 'high', 'vgood']\n",
      "['low', 'low', '2', '2', 'big', 'med', 'unacc']\n",
      "['med', 'high', '4', '2', 'big', 'high', 'unacc']\n",
      "['low', 'low', '2', '2', 'small', 'high', 'unacc']\n",
      "['vhigh', 'high', '5more', '4', 'med', 'med', 'unacc']\n",
      "['med', 'vhigh', '2', '2', 'big', 'low', 'unacc']\n",
      "['low', 'vhigh', '4', '4', 'big', 'low', 'unacc']\n",
      "['vhigh', 'low', '3', 'more', 'big', 'low', 'unacc']\n",
      "['med', 'vhigh', '3', '4', 'small', 'low', 'unacc']\n",
      "['high', 'high', '3', '4', 'med', 'med', 'unacc']\n",
      "['low', 'high', '5more', '2', 'big', 'low', 'unacc']\n",
      "['med', 'high', '5more', '2', 'med', 'med', 'unacc']\n",
      "['high', 'low', '3', '4', 'med', 'high', 'acc']\n",
      "['high', 'vhigh', '5more', '4', 'med', 'med', 'unacc']\n",
      "['low', 'low', '5more', '2', 'med', 'low', 'unacc']\n",
      "['vhigh', 'vhigh', '4', '2', 'big', 'high', 'unacc']\n",
      "['high', 'low', '3', '2', 'big', 'high', 'unacc']\n"
     ]
    }
   ],
   "source": [
    "import csv\n",
    "with open('C:/Users/user/Desktop/DAV5400/cars-sample35.txt') as csvfile:     \n",
    "    readCSV = csv.reader(csvfile)     \n",
    "    for row in readCSV:         \n",
    "        # print each row as read by the csv.reader function \n",
    "        print(row)"
   ]
  },
  {
   "cell_type": "markdown",
   "metadata": {},
   "source": [
    "# Task 1"
   ]
  },
  {
   "cell_type": "code",
   "execution_count": 10,
   "metadata": {},
   "outputs": [
    {
     "name": "stdout",
     "output_type": "stream",
     "text": [
      "['high', 'high', 'high', 'high', 'vhigh', 'low', 'med', 'low', 'vhigh', 'vhigh', 'low', 'vhigh', 'high', 'low', 'high', 'vhigh', 'med', 'high', 'low', 'low', 'med', 'low', 'vhigh', 'med', 'low', 'vhigh', 'med', 'high', 'low', 'med', 'high', 'high', 'low', 'vhigh', 'high']\n",
      "['high', 'high', 'high', 'low', 'low', 'high', 'med', 'low', 'low', 'high', 'low', 'low', 'low', 'vhigh', 'low', 'high', 'med', 'low', 'low', 'low', 'high', 'low', 'high', 'vhigh', 'vhigh', 'low', 'vhigh', 'high', 'high', 'high', 'low', 'vhigh', 'low', 'vhigh', 'low']\n",
      "['2', '4', '4', '2', '3', '2', '4', '3', '2', '4', '2', '4', '2', '3', '5more', '2', '2', '5more', '3', '2', '4', '2', '5more', '2', '4', '3', '3', '3', '5more', '5more', '3', '5more', '5more', '4', '3']\n",
      "['4', 'more', 'more', 'more', '2', '2', 'more', '2', '2', '4', '2', 'more', '4', 'more', '2', 'more', '2', '4', 'more', '2', '2', '2', '4', '2', '4', 'more', '4', '4', '2', '2', '4', '4', '2', '2', '2']\n",
      "['med', 'small', 'big', 'big', 'med', 'small', 'med', 'big', 'small', 'med', 'med', 'small', 'big', 'big', 'big', 'med', 'small', 'med', 'med', 'big', 'big', 'small', 'med', 'big', 'big', 'big', 'small', 'med', 'big', 'med', 'med', 'med', 'med', 'big', 'big']\n",
      "['low', 'high', 'low', 'high', 'med', 'low', 'high', 'med', 'low', 'low', 'med', 'high', 'med', 'low', 'med', 'high', 'low', 'high', 'high', 'med', 'high', 'high', 'med', 'low', 'low', 'low', 'low', 'med', 'low', 'med', 'high', 'med', 'low', 'high', 'high']\n",
      "['unacc', 'acc', 'unacc', 'acc', 'unacc', 'unacc', 'vgood', 'unacc', 'unacc', 'unacc', 'unacc', 'acc', 'acc', 'unacc', 'unacc', 'unacc', 'unacc', 'acc', 'vgood', 'unacc', 'unacc', 'unacc', 'unacc', 'unacc', 'unacc', 'unacc', 'unacc', 'unacc', 'unacc', 'unacc', 'acc', 'unacc', 'unacc', 'unacc', 'unacc']\n"
     ]
    }
   ],
   "source": [
    "# make a list for each \n",
    "price = []\n",
    "m_cost = []\n",
    "n_doors = []\n",
    "n_pass = []\n",
    "l_cap = []\n",
    "s_rating = []\n",
    "v_class = []\n",
    "\n",
    "# let first element be the Price, and second element be the Maintenance cost etc. then prince each of them\n",
    "\n",
    "with open('C:/Users/user/Desktop/DAV5400/cars-sample35.txt') as csvfile:     \n",
    "    readCSV = csv.reader(csvfile)     \n",
    "    for row in readCSV:\n",
    "        price.append(row[0])\n",
    "        m_cost.append(row[1])\n",
    "        n_doors.append(row[2])\n",
    "        n_pass.append(row[3])\n",
    "        l_cap.append(row[4])\n",
    "        s_rating.append(row[5])\n",
    "        v_class.append(row[6])\n",
    "    \n",
    "print(price)\n",
    "print(m_cost)\n",
    "print(n_doors)\n",
    "print(n_pass)\n",
    "print(l_cap)\n",
    "print(s_rating)\n",
    "print(v_class)"
   ]
  },
  {
   "cell_type": "markdown",
   "metadata": {},
   "source": [
    "# Task 2"
   ]
  },
  {
   "cell_type": "code",
   "execution_count": 11,
   "metadata": {},
   "outputs": [
    {
     "name": "stdout",
     "output_type": "stream",
     "text": [
      "['high', 'high', 'high', 'high', 'vhigh', 'low', 'med', 'low', 'vhigh', 'vhigh', 'low', 'vhigh', 'high', 'low', 'high', 'vhigh', 'med', 'high', 'low', 'low', 'med', 'low', 'vhigh', 'med', 'low', 'vhigh', 'med', 'high', 'low', 'med', 'high', 'high', 'low', 'vhigh', 'high']\n",
      "[6, 16, 20, 23, 26, 29]\n"
     ]
    }
   ],
   "source": [
    "# make a list for Price\n",
    "price = []\n",
    "\n",
    "# let first element be the Price \n",
    "\n",
    "with open('C:/Users/user/Desktop/DAV5400/cars-sample35.txt') as csvfile:     \n",
    "    readCSV = csv.reader(csvfile)     \n",
    "    for row in readCSV:\n",
    "        price.append(row[0])\n",
    "    \n",
    "print(price)\n",
    "\n",
    "#create a new list\n",
    "index = []\n",
    "\n",
    "# find an index which has a 'med' for automobile price rating\n",
    "# if the price of index is 'med', add it the value to the index list I created earlier\n",
    "\n",
    "for i in range(len(price)):\n",
    "    if price[i] == 'med':\n",
    "        index.append(i)\n",
    "\n",
    "print(index)"
   ]
  },
  {
   "cell_type": "markdown",
   "metadata": {},
   "source": [
    "# Task 3"
   ]
  },
  {
   "cell_type": "code",
   "execution_count": 13,
   "metadata": {},
   "outputs": [
    {
     "name": "stdout",
     "output_type": "stream",
     "text": [
      "['more', '2', '2', '2', '4', '2']\n"
     ]
    }
   ],
   "source": [
    "#create new list for number of passengers as index2\n",
    "index2 = []\n",
    "\n",
    "for i in index:\n",
    "        index2.append(n_pass[i])\n",
    "\n",
    "print(index2)"
   ]
  },
  {
   "cell_type": "markdown",
   "metadata": {},
   "source": [
    "# Task 4"
   ]
  },
  {
   "cell_type": "code",
   "execution_count": 14,
   "metadata": {},
   "outputs": [
    {
     "name": "stdout",
     "output_type": "stream",
     "text": [
      "['high', 'high', 'high', 'high', 'vhigh', 'low', 'med', 'low', 'vhigh', 'vhigh', 'low', 'vhigh', 'high', 'low', 'high', 'vhigh', 'med', 'high', 'low', 'low', 'med', 'low', 'vhigh', 'med', 'low', 'vhigh', 'med', 'high', 'low', 'med', 'high', 'high', 'low', 'vhigh', 'high']\n",
      "['high', 'high', 'high', 'low', 'low', 'high', 'med', 'low', 'low', 'high', 'low', 'low', 'low', 'vhigh', 'low', 'high', 'med', 'low', 'low', 'low', 'high', 'low', 'high', 'vhigh', 'vhigh', 'low', 'vhigh', 'high', 'high', 'high', 'low', 'vhigh', 'low', 'vhigh', 'low']\n",
      "[0, 1, 2, 27, 31]\n"
     ]
    }
   ],
   "source": [
    "# make a list for Price and maintenance cost\n",
    "price = []\n",
    "m_cost = []\n",
    "\n",
    "# let first element be the Price, and second element be the maintenance cost\n",
    "\n",
    "with open('C:/Users/user/Desktop/DAV5400/cars-sample35.txt') as csvfile:     \n",
    "    readCSV = csv.reader(csvfile)     \n",
    "    for row in readCSV:\n",
    "        price.append(row[0])\n",
    "        m_cost.append(row[1])\n",
    "    \n",
    "print(price)\n",
    "print(m_cost)\n",
    "\n",
    "#create a new list\n",
    "index3 = []\n",
    "\n",
    "# find a index which has a 'high' for Price and maintenance cost is NOT low.\n",
    "# if the price of index is 'high' and maintenance cost is NOT low, add it the value to the index list I created earlier\n",
    "\n",
    "for i in range(len(price)):\n",
    "    if price[i] == 'high' and m_cost[i] != 'low':\n",
    "        index3.append(i)\n",
    "\n",
    "print(index3)"
   ]
  },
  {
   "cell_type": "markdown",
   "metadata": {},
   "source": [
    "# Task 5 "
   ]
  },
  {
   "cell_type": "code",
   "execution_count": 188,
   "metadata": {},
   "outputs": [
    {
     "name": "stdout",
     "output_type": "stream",
     "text": [
      "['2', '4', '4', '2', '3', '2', '4', '3', '2', '4', '2', '4', '2', '3', '5more', '2', '2', '5more', '3', '2', '4', '2', '5more', '2', '4', '3', '3', '3', '5more', '5more', '3', '5more', '5more', '4', '3']\n",
      "['med', 'small', 'big', 'big', 'med', 'small', 'med', 'big', 'small', 'med', 'med', 'small', 'big', 'big', 'big', 'med', 'small', 'med', 'med', 'big', 'big', 'small', 'med', 'big', 'big', 'big', 'small', 'med', 'big', 'med', 'med', 'med', 'med', 'big', 'big']\n",
      "[3, 12, 19, 23]\n"
     ]
    }
   ],
   "source": [
    "# make a list for Number of doors and Luggage capacity \n",
    "n_doors = []\n",
    "l_cap = []\n",
    "\n",
    "# let third element be the Number of doors and fifth element be Luggage capacity \n",
    "\n",
    "with open('C:/Users/user/Desktop/DAV5400/cars-sample35.txt') as csvfile:     \n",
    "    readCSV = csv.reader(csvfile)     \n",
    "    for row in readCSV:\n",
    "        n_doors.append(row[2])\n",
    "        l_cap.append(row[4])\n",
    "print(n_doors)\n",
    "print(l_cap)\n",
    "\n",
    "#create a new list\n",
    "index4 = []\n",
    "\n",
    "#find a index which has 2 doors and a luggage value of \"big\" \n",
    "# if the number of the door is 2 and lugguage value of index is big, add it the value to the index list I created earlier\n",
    "\n",
    "for i in range(len(n_doors)):\n",
    "    if n_doors[i] == '2' and l_cap[i] == 'big':\n",
    "        index4.append(i)\n",
    "\n",
    "print(index4)"
   ]
  },
  {
   "cell_type": "markdown",
   "metadata": {},
   "source": [
    "# Task 6"
   ]
  },
  {
   "cell_type": "code",
   "execution_count": 30,
   "metadata": {},
   "outputs": [
    {
     "name": "stdout",
     "output_type": "stream",
     "text": [
      "[2, 4, 4, 2, 3, 2, 4, 3, 2, 4, 2, 4, 2, 3, 5, 2, 2, 5, 3, 2, 4, 2, 5, 2, 4, 3, 3, 3, 5, 5, 3, 5, 5, 4, 3]\n"
     ]
    },
    {
     "data": {
      "text/plain": [
       "3.3142857142857145"
      ]
     },
     "execution_count": 30,
     "metadata": {},
     "output_type": "execute_result"
    }
   ],
   "source": [
    "# make a list for Number of doors as index5\n",
    "index5 = []\n",
    "\n",
    "# convert '5more' values to '5' using if function: if the value in n_doors is not 5more, print the value in integer.\n",
    "# If the value in n_doors is equal to '5more', then print the value 5 as a integer\n",
    "\n",
    "for i in n_doors:\n",
    "    if i != '5more':\n",
    "        index5.append(int(i))\n",
    "    elif i == '5more': \n",
    "        index5.append(5)\n",
    "        \n",
    "print(index5)\n",
    "            \n",
    "# find average number of doors \n",
    "# Average = sum/count -> sum of values in index5 devided by number of index5\n",
    "\n",
    "sum(index5) / len(index5)\n"
   ]
  }
 ],
 "metadata": {
  "kernelspec": {
   "display_name": "Python 3",
   "language": "python",
   "name": "python3"
  },
  "language_info": {
   "codemirror_mode": {
    "name": "ipython",
    "version": 3
   },
   "file_extension": ".py",
   "mimetype": "text/x-python",
   "name": "python",
   "nbconvert_exporter": "python",
   "pygments_lexer": "ipython3",
   "version": "3.6.5"
  }
 },
 "nbformat": 4,
 "nbformat_minor": 2
}
