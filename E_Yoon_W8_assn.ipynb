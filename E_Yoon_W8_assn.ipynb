{
 "cells": [
  {
   "cell_type": "code",
   "execution_count": 80,
   "metadata": {},
   "outputs": [],
   "source": [
    "import re\n",
    "import numpy as np"
   ]
  },
  {
   "cell_type": "code",
   "execution_count": 93,
   "metadata": {},
   "outputs": [
    {
     "data": {
      "text/plain": [
       "'555-1239Moe Szyslak(636) 555-0113Burns, C. Montgomery555 -6542Rev. Timothy Lovejoy555 8904Ned Flanders636-555-3226Simpson, Homer5553642Dr. Julius Hibbert'"
      ]
     },
     "execution_count": 93,
     "metadata": {},
     "output_type": "execute_result"
    }
   ],
   "source": [
    "text = '555-1239Moe Szyslak(636) 555-0113Burns, C. Montgomery555 -6542Rev. Timothy Lovejoy555 8904Ned Flanders636-555-3226Simpson, Homer5553642Dr. Julius Hibbert' \n",
    "text"
   ]
  },
  {
   "cell_type": "markdown",
   "metadata": {},
   "source": [
    "## 1. Extract the names of each individual "
   ]
  },
  {
   "cell_type": "markdown",
   "metadata": {},
   "source": [
    "Use a findall function that returns a list that contains all the matched utterances as shown below. Then define them as 'name'"
   ]
  },
  {
   "cell_type": "code",
   "execution_count": 94,
   "metadata": {},
   "outputs": [
    {
     "data": {
      "text/plain": [
       "['Moe Szyslak',\n",
       " 'Burns, C. Montgomery',\n",
       " 'Rev. Timothy Lovejoy',\n",
       " 'Ned Flanders',\n",
       " 'Simpson, Homer',\n",
       " 'Dr. Julius Hibbert']"
      ]
     },
     "execution_count": 94,
     "metadata": {},
     "output_type": "execute_result"
    }
   ],
   "source": [
    "# find the names of each individual from the 'text' \n",
    "# where the their first/middle/last name starts with any alphabetic character between A to Z\n",
    "# then \\s(space) between first and middle, and middle to last name \n",
    "name = re.findall('[A-Za-z,\\.]+\\s[A-Za-z,\\.+\\s[A-Za-z,\\.]+',text)\n",
    "name"
   ]
  },
  {
   "cell_type": "markdown",
   "metadata": {},
   "source": [
    "## 2."
   ]
  },
  {
   "cell_type": "markdown",
   "metadata": {},
   "source": [
    "### (a) Rearrange the vector so that all elements conform to the standard “firstname lastname”"
   ]
  },
  {
   "cell_type": "markdown",
   "metadata": {},
   "source": [
    "To rearrange the vector, I compile the names containing the comma from the names first. Then if it name contains a comma, I change its order to the first name comes first and last name comes second. Otherwise, return as it is. "
   ]
  },
  {
   "cell_type": "code",
   "execution_count": 95,
   "metadata": {},
   "outputs": [
    {
     "name": "stdout",
     "output_type": "stream",
     "text": [
      "['Moe Szyslak', 'C. Montgomery Burns', 'Rev. Timothy Lovejoy', 'Ned Flanders', 'Homer Simpson', 'Dr. Julius Hibbert']\n"
     ]
    }
   ],
   "source": [
    "first_lastname = []\n",
    "for i in name:\n",
    "    pattern = re.compile(', ') #compiling the words containing comma(,) from the name \n",
    "    if re.search(pattern,i):\n",
    "        splitname = re.split(pattern,i)#split each word using the 're.split' function if there's a comma in thier names\n",
    "        name = splitname[1] + ' ' + splitname[0] #change the order of their first name and the last name\n",
    "        first_lastname.append(name)\n",
    "    else:\n",
    "        first_lastname.append(i)\n",
    "\n",
    "print(first_lastname)"
   ]
  },
  {
   "cell_type": "markdown",
   "metadata": {},
   "source": [
    "## (b)"
   ]
  },
  {
   "cell_type": "markdown",
   "metadata": {},
   "source": [
    "I used re.match function to find a character has a title (i.e., Rev. and Dr.) where the characters have more than 2 alphabetic character between A to Z and a dot."
   ]
  },
  {
   "cell_type": "code",
   "execution_count": 84,
   "metadata": {},
   "outputs": [
    {
     "data": {
      "text/plain": [
       "array([False, False,  True, False, False,  True])"
      ]
     },
     "execution_count": 84,
     "metadata": {},
     "output_type": "execute_result"
    }
   ],
   "source": [
    "# if the characters of the title are more than 2 characters, then return as True\n",
    "title = np.array([re.match('[A-Za-z]{2,}[.]',t) for t in first_lastname])\n",
    "title != None"
   ]
  },
  {
   "cell_type": "markdown",
   "metadata": {},
   "source": [
    "## (c)"
   ]
  },
  {
   "cell_type": "markdown",
   "metadata": {},
   "source": [
    "Like the question above, I used re.match function again to find whether a character has a middle/second name where the characters begins with any alphabetic character between A to Z and a comma following the alphabetic character."
   ]
  },
  {
   "cell_type": "code",
   "execution_count": 85,
   "metadata": {},
   "outputs": [
    {
     "data": {
      "text/plain": [
       "array([False,  True, False, False, False, False])"
      ]
     },
     "execution_count": 85,
     "metadata": {},
     "output_type": "execute_result"
    }
   ],
   "source": [
    "# if the characters has a middle name, then return as True\n",
    "middle = np.array([re.match('[A-Z][.]',t) for t in first_lastname])\n",
    "middle != None"
   ]
  },
  {
   "cell_type": "markdown",
   "metadata": {},
   "source": [
    "## 3. extract the first HTML tag "
   ]
  },
  {
   "cell_type": "markdown",
   "metadata": {},
   "source": [
    "The regular expression provided is <.+> and I change it to <.+?> to extract the first HTML tag. Both will match any sequence of one or more characters. The difference is that .+ is greedy and consumes as many characters as it can while .+? is reluctant and consumes as few characters as it can."
   ]
  },
  {
   "cell_type": "code",
   "execution_count": 86,
   "metadata": {},
   "outputs": [
    {
     "name": "stdout",
     "output_type": "stream",
     "text": [
      "<_sre.SRE_Match object; span=(0, 33), match='<title>+++BREAKING NEWS+++<title>'>\n"
     ]
    }
   ],
   "source": [
    "# used the regular expression “<.+>”\n",
    "newstitle = '<title>+++BREAKING NEWS+++<title>'\n",
    "newstitle_incorrect = re.match('<.+>', newstitle)\n",
    "print(newstitle_incorrect)"
   ]
  },
  {
   "cell_type": "code",
   "execution_count": 87,
   "metadata": {},
   "outputs": [
    {
     "name": "stdout",
     "output_type": "stream",
     "text": [
      "<title>\n"
     ]
    }
   ],
   "source": [
    "#change the regular expression as '<.+?>'\n",
    "newstitle_corrected = re.match('<.+?>', newstitle).group()\n",
    "print(newstitle_corrected)"
   ]
  },
  {
   "cell_type": "markdown",
   "metadata": {},
   "source": [
    "## 4. extract the formula in the string"
   ]
  },
  {
   "cell_type": "markdown",
   "metadata": {},
   "source": [
    "The regular expression provided is [^0-9=+*()]+ and I change it to [0-9-^=+*()]+ to extract the formula in the string. Since there's a ^ in the beginning for incorrect regular expression, I change it as -^ and put it after 0-9. "
   ]
  },
  {
   "cell_type": "code",
   "execution_count": 91,
   "metadata": {},
   "outputs": [
    {
     "data": {
      "text/plain": [
       "['-', '^', '^', '-', '^']"
      ]
     },
     "execution_count": 91,
     "metadata": {},
     "output_type": "execute_result"
    }
   ],
   "source": [
    "# used the regular expression “[^0-9=+*()]+”\n",
    "bino = '(5-3)^2=5^2-2*5*3+3^2'\n",
    "incorrect = re.findall('[^0-9=+*()]+', bino)\n",
    "incorrect"
   ]
  },
  {
   "cell_type": "code",
   "execution_count": 92,
   "metadata": {},
   "outputs": [
    {
     "data": {
      "text/plain": [
       "['(5-3)^2=5^2-2*5*3+3^2']"
      ]
     },
     "execution_count": 92,
     "metadata": {},
     "output_type": "execute_result"
    }
   ],
   "source": [
    "# change the regular expression as '[0-9-^=+*()]+'\n",
    "corrected = re.findall('[0-9-^=+*()]+', bino)\n",
    "corrected"
   ]
  }
 ],
 "metadata": {
  "kernelspec": {
   "display_name": "Python 3",
   "language": "python",
   "name": "python3"
  },
  "language_info": {
   "codemirror_mode": {
    "name": "ipython",
    "version": 3
   },
   "file_extension": ".py",
   "mimetype": "text/x-python",
   "name": "python",
   "nbconvert_exporter": "python",
   "pygments_lexer": "ipython3",
   "version": "3.6.5"
  }
 },
 "nbformat": 4,
 "nbformat_minor": 2
}
