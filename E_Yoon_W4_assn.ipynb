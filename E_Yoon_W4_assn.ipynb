{
 "cells": [
  {
   "cell_type": "markdown",
   "metadata": {},
   "source": [
    "# Task 1"
   ]
  },
  {
   "cell_type": "code",
   "execution_count": 64,
   "metadata": {},
   "outputs": [],
   "source": [
    "import numpy as np\n",
    "a = np.array([1, 2, 3, 2, 3, 4, 3, 4, 5, 6]) \n",
    "b = np.array([7, 2, 10, 2, 7, 4, 9, 4, 9, 8])"
   ]
  },
  {
   "cell_type": "code",
   "execution_count": 65,
   "metadata": {},
   "outputs": [
    {
     "data": {
      "text/plain": [
       "array([2, 4])"
      ]
     },
     "execution_count": 65,
     "metadata": {},
     "output_type": "execute_result"
    }
   ],
   "source": [
    "'''find the common values between a and b using the function intersect1d'''\n",
    "np.intersect1d(a,b)"
   ]
  },
  {
   "cell_type": "markdown",
   "metadata": {},
   "source": [
    "# Task 2"
   ]
  },
  {
   "cell_type": "code",
   "execution_count": 68,
   "metadata": {},
   "outputs": [
    {
     "data": {
      "text/plain": [
       "array([ 1,  2,  3,  4,  5,  6,  7,  8,  9, 10, 11, 12, 13, 14, 15])"
      ]
     },
     "execution_count": 68,
     "metadata": {},
     "output_type": "execute_result"
    }
   ],
   "source": [
    "x = np.arange(1, 16)\n",
    "x"
   ]
  },
  {
   "cell_type": "code",
   "execution_count": 67,
   "metadata": {},
   "outputs": [
    {
     "data": {
      "text/plain": [
       "array([[ 1,  6, 11],\n",
       "       [ 2,  7, 12],\n",
       "       [ 3,  8, 13],\n",
       "       [ 4,  9, 14],\n",
       "       [ 5, 10, 15]])"
      ]
     },
     "execution_count": 67,
     "metadata": {},
     "output_type": "execute_result"
    }
   ],
   "source": [
    "'''print x in a shape of 3x5 matrix and used T to transpose'''\n",
    "x.reshape(3,5).T"
   ]
  },
  {
   "cell_type": "markdown",
   "metadata": {},
   "source": [
    "# Task 3"
   ]
  },
  {
   "cell_type": "code",
   "execution_count": 70,
   "metadata": {},
   "outputs": [],
   "source": [
    "a = np.array([12, 5, 7, 15, 3, 1, 8]) \n",
    "b = np.array([14, 6, 3, 11, 19, 12, 5]) "
   ]
  },
  {
   "cell_type": "code",
   "execution_count": 71,
   "metadata": {},
   "outputs": [
    {
     "name": "stdout",
     "output_type": "stream",
     "text": [
      "[ 1  7  8 15]\n"
     ]
    }
   ],
   "source": [
    "'''use setdiff1d to find the set difference of two arrays and return the sorted, \n",
    "unique values in array1 that are not in array2'''\n",
    "\n",
    "res = np.setdiff1d(a,b)\n",
    "print(res)"
   ]
  },
  {
   "cell_type": "markdown",
   "metadata": {},
   "source": [
    "# Task 4"
   ]
  },
  {
   "cell_type": "code",
   "execution_count": 74,
   "metadata": {},
   "outputs": [
    {
     "data": {
      "text/plain": [
       "array([[  50,  150,  210,  260,  320,  400,  400],\n",
       "       [ 430,  450,  550,  600,  600,  650,  700],\n",
       "       [ 760,  800,  850,  850,  900,  960, 1000],\n",
       "       [1100, 1100, 1150, 1200, 1270, 1350, 1400],\n",
       "       [1480, 1500, 1520, 1530, 1540, 1550, 1552]])"
      ]
     },
     "execution_count": 74,
     "metadata": {},
     "output_type": "execute_result"
    }
   ],
   "source": [
    "'''The total miles from NYC(School address-215 lexington ave. NY) to Key West is \n",
    "1552 miles in a mode of bike according to the Google Map '''\n",
    "'''Record the cumulative miles until the last day of trip, then reshape in 5x7 matrix'''\n",
    "\n",
    "trip = np.array([[50,150,210,260,320,400,400,430,450,550,600,600,650,700,760,800,850,850,900,960,1000,\n",
    "                   1100,1100,1150,1200,1270,1350,1400,1480,1500,1520,1530,1540,1550,1552]])\n",
    "trip.reshape(5,7)"
   ]
  },
  {
   "cell_type": "code",
   "execution_count": 75,
   "metadata": {},
   "outputs": [
    {
     "data": {
      "text/plain": [
       "array([[100,  60,  50,  60,  80,   0,  30,  20, 100,  50,   0,  50,  50,\n",
       "         60,  40,  50,   0,  50,  60,  40, 100,   0,  50,  50,  70,  80,\n",
       "         50,  80,  20,  20,  10,  10,  10,   2]])"
      ]
     },
     "execution_count": 75,
     "metadata": {},
     "output_type": "execute_result"
    }
   ],
   "source": [
    "'''Since the record is cumulative miles, I calculate difference in miles to figure out daily miles'''\n",
    "np.diff(trip)"
   ]
  },
  {
   "cell_type": "markdown",
   "metadata": {},
   "source": [
    "# Task 5"
   ]
  },
  {
   "cell_type": "code",
   "execution_count": 55,
   "metadata": {},
   "outputs": [
    {
     "name": "stderr",
     "output_type": "stream",
     "text": [
      "C:\\Users\\user\\Anaconda3\\lib\\site-packages\\ipykernel_launcher.py:8: FutureWarning: Method .as_matrix will be removed in a future version. Use .values instead.\n",
      "  \n"
     ]
    },
    {
     "data": {
      "text/plain": [
       "numpy.ndarray"
      ]
     },
     "execution_count": 55,
     "metadata": {},
     "output_type": "execute_result"
    }
   ],
   "source": [
    "import pandas\n",
    "import numpy as np\n",
    "\n",
    "# supress scientific notation\n",
    "np.set_printoptions(suppress = True)\n",
    "\n",
    "# read the data file from GitHub and convert to a NumPy ndarray object\n",
    "nyc_water = pandas.read_csv('https://raw.githubusercontent.com/jtopor/DAV-5400/master/Week4/Water_Consumption_In_The_New_York_City.csv').as_matrix()\n",
    "\n",
    "# verify you have an ndarray object\n",
    "type(nyc_water)"
   ]
  },
  {
   "cell_type": "markdown",
   "metadata": {},
   "source": [
    "### 1. What is the maximum yearly NYC consumption of water in millions of gallons per day?"
   ]
  },
  {
   "cell_type": "code",
   "execution_count": 56,
   "metadata": {},
   "outputs": [
    {
     "name": "stdout",
     "output_type": "stream",
     "text": [
      "[[   1979.  7102100.     1512.      213. ]\n",
      " [   1980.  7071639.     1506.      213. ]\n",
      " [   1981.  7089241.     1309.      185. ]\n",
      " [   1982.  7109105.     1382.      194. ]\n",
      " [   1983.  7181224.     1424.      198. ]\n",
      " [   1984.  7234514.     1465.      203. ]\n",
      " [   1985.  7274054.     1326.      182. ]\n",
      " [   1986.  7319246.     1351.      185. ]\n",
      " [   1987.  7342476.     1447.      197. ]\n",
      " [   1988.  7353719.     1484.      202. ]\n",
      " [   1989.  7344175.     1402.      191. ]\n",
      " [   1990.  7335650.     1424.      194. ]\n",
      " [   1991.  7374501.     1469.      199. ]\n",
      " [   1992.  7428944.     1369.      184. ]\n",
      " [   1993.  7506166.     1368.5     182. ]\n",
      " [   1994.  7570458.     1357.7     179. ]\n",
      " [   1995.  7633040.     1325.7     174. ]\n",
      " [   1996.  7697812.     1297.9     169. ]\n",
      " [   1997.  7773443.     1205.5     155. ]\n",
      " [   1998.  7858259.     1219.5     155. ]\n",
      " [   1999.  7947660.     1237.2     156. ]\n",
      " [   2000.  8008278.     1240.4     155. ]\n",
      " [   2001.  8024963.5    1184.      148. ]\n",
      " [   2002.  8041649.     1135.6     141. ]\n",
      " [   2003.  8058334.5    1093.7     136. ]\n",
      " [   2004.  8075020.     1099.5     136. ]\n",
      " [   2005.  8091705.5    1138.      141. ]\n",
      " [   2006.  8108391.     1069.      132. ]\n",
      " [   2007.  8125076.5    1114.      137. ]\n",
      " [   2008.  8141762.     1098.      135. ]\n",
      " [   2009.  8158447.5    1007.5     123. ]\n",
      " [   2010.  8175133.     1039.      127. ]\n",
      " [   2011.  8284098.     1021.      123. ]\n",
      " [   2012.  8361179.     1009.1     121. ]\n",
      " [   2013.  8422460.     1006.1     119. ]\n",
      " [   2014.  8471990.      996.      118. ]\n",
      " [   2015.  8516502.     1009.      118. ]\n",
      " [   2016.  8537673.     1002.      117. ]\n",
      " [   2017.  8622698.      990.2     115. ]]\n"
     ]
    }
   ],
   "source": [
    "print(nyc_water)"
   ]
  },
  {
   "cell_type": "code",
   "execution_count": 57,
   "metadata": {},
   "outputs": [
    {
     "name": "stdout",
     "output_type": "stream",
     "text": [
      "[[1512. ]\n",
      " [1506. ]\n",
      " [1309. ]\n",
      " [1382. ]\n",
      " [1424. ]\n",
      " [1465. ]\n",
      " [1326. ]\n",
      " [1351. ]\n",
      " [1447. ]\n",
      " [1484. ]\n",
      " [1402. ]\n",
      " [1424. ]\n",
      " [1469. ]\n",
      " [1369. ]\n",
      " [1368.5]\n",
      " [1357.7]\n",
      " [1325.7]\n",
      " [1297.9]\n",
      " [1205.5]\n",
      " [1219.5]\n",
      " [1237.2]\n",
      " [1240.4]\n",
      " [1184. ]\n",
      " [1135.6]\n",
      " [1093.7]\n",
      " [1099.5]\n",
      " [1138. ]\n",
      " [1069. ]\n",
      " [1114. ]\n",
      " [1098. ]\n",
      " [1007.5]\n",
      " [1039. ]\n",
      " [1021. ]\n",
      " [1009.1]\n",
      " [1006.1]\n",
      " [ 996. ]\n",
      " [1009. ]\n",
      " [1002. ]\n",
      " [ 990.2]]\n"
     ]
    }
   ],
   "source": [
    "'''get the third columns from nyc_water then define it as nyc_consumption'''\n",
    "nyc_consumption = nyc_water[:, [2]]\n",
    "print(nyc_consumption)"
   ]
  },
  {
   "cell_type": "code",
   "execution_count": 58,
   "metadata": {},
   "outputs": [
    {
     "data": {
      "text/plain": [
       "1512.0"
      ]
     },
     "execution_count": 58,
     "metadata": {},
     "output_type": "execute_result"
    }
   ],
   "source": [
    "'''Find the max number among the values in nyc_consumption'''\n",
    "np.amax(nyc_consumption)"
   ]
  },
  {
   "cell_type": "markdown",
   "metadata": {},
   "source": [
    "### 2. How many calendar years are represented within this data set?  NumPy's shape command is one way to find out. "
   ]
  },
  {
   "cell_type": "code",
   "execution_count": 59,
   "metadata": {},
   "outputs": [
    {
     "data": {
      "text/plain": [
       "39"
      ]
     },
     "execution_count": 59,
     "metadata": {},
     "output_type": "execute_result"
    }
   ],
   "source": [
    "'''get the first columns from nyc_water then define it as years, and then find the number of the values'''\n",
    "years = nyc_water.shape\n",
    "years[0]"
   ]
  },
  {
   "cell_type": "markdown",
   "metadata": {},
   "source": [
    "### 3. What is the mean and the standard deviation of the per capita daily water consumption?  "
   ]
  },
  {
   "cell_type": "code",
   "execution_count": 60,
   "metadata": {},
   "outputs": [
    {
     "name": "stdout",
     "output_type": "stream",
     "text": [
      "[[213.]\n",
      " [213.]\n",
      " [185.]\n",
      " [194.]\n",
      " [198.]\n",
      " [203.]\n",
      " [182.]\n",
      " [185.]\n",
      " [197.]\n",
      " [202.]\n",
      " [191.]\n",
      " [194.]\n",
      " [199.]\n",
      " [184.]\n",
      " [182.]\n",
      " [179.]\n",
      " [174.]\n",
      " [169.]\n",
      " [155.]\n",
      " [155.]\n",
      " [156.]\n",
      " [155.]\n",
      " [148.]\n",
      " [141.]\n",
      " [136.]\n",
      " [136.]\n",
      " [141.]\n",
      " [132.]\n",
      " [137.]\n",
      " [135.]\n",
      " [123.]\n",
      " [127.]\n",
      " [123.]\n",
      " [121.]\n",
      " [119.]\n",
      " [118.]\n",
      " [118.]\n",
      " [117.]\n",
      " [115.]]\n"
     ]
    }
   ],
   "source": [
    "'''get the fourth columns from nyc_water then define it as ppdw_consumption'''\n",
    "ppdw_consumption = nyc_water[:, [3]]\n",
    "print(ppdw_consumption)"
   ]
  },
  {
   "cell_type": "code",
   "execution_count": 78,
   "metadata": {},
   "outputs": [
    {
     "data": {
      "text/plain": [
       "160.30769230769232"
      ]
     },
     "execution_count": 78,
     "metadata": {},
     "output_type": "execute_result"
    }
   ],
   "source": [
    "'''find the mean of ppdw_consumption'''\n",
    "ppdw_consumption.mean()"
   ]
  },
  {
   "cell_type": "code",
   "execution_count": 79,
   "metadata": {},
   "outputs": [
    {
     "data": {
      "text/plain": [
       "31.51894330370624"
      ]
     },
     "execution_count": 79,
     "metadata": {},
     "output_type": "execute_result"
    }
   ],
   "source": [
    "'''find the standard deviation of ppdw_consumption'''\n",
    "np.std(ppdw_consumption)"
   ]
  },
  {
   "cell_type": "markdown",
   "metadata": {},
   "source": [
    "### 4. What is the increase or decrease in population from year to year?  Use NumPy's `diff` function to create an array of differences and save that to a variable called \"pop_diff\", then print that variable to the screen."
   ]
  },
  {
   "cell_type": "code",
   "execution_count": 80,
   "metadata": {},
   "outputs": [
    {
     "name": "stdout",
     "output_type": "stream",
     "text": [
      "[[-30461. ]\n",
      " [ 17602. ]\n",
      " [ 19864. ]\n",
      " [ 72119. ]\n",
      " [ 53290. ]\n",
      " [ 39540. ]\n",
      " [ 45192. ]\n",
      " [ 23230. ]\n",
      " [ 11243. ]\n",
      " [ -9544. ]\n",
      " [ -8525. ]\n",
      " [ 38851. ]\n",
      " [ 54443. ]\n",
      " [ 77222. ]\n",
      " [ 64292. ]\n",
      " [ 62582. ]\n",
      " [ 64772. ]\n",
      " [ 75631. ]\n",
      " [ 84816. ]\n",
      " [ 89401. ]\n",
      " [ 60618. ]\n",
      " [ 16685.5]\n",
      " [ 16685.5]\n",
      " [ 16685.5]\n",
      " [ 16685.5]\n",
      " [ 16685.5]\n",
      " [ 16685.5]\n",
      " [ 16685.5]\n",
      " [ 16685.5]\n",
      " [ 16685.5]\n",
      " [ 16685.5]\n",
      " [108965. ]\n",
      " [ 77081. ]\n",
      " [ 61281. ]\n",
      " [ 49530. ]\n",
      " [ 44512. ]\n",
      " [ 21171. ]\n",
      " [ 85025. ]]\n"
     ]
    }
   ],
   "source": [
    "'''use np.diff(x, axis=0) function and define as pop_diff'''\n",
    "pop_diff = np.diff(nyc_water[:, [1],], axis=0)\n",
    "print(pop_diff)"
   ]
  },
  {
   "cell_type": "code",
   "execution_count": null,
   "metadata": {},
   "outputs": [],
   "source": []
  }
 ],
 "metadata": {
  "kernelspec": {
   "display_name": "Python 3",
   "language": "python",
   "name": "python3"
  },
  "language_info": {
   "codemirror_mode": {
    "name": "ipython",
    "version": 3
   },
   "file_extension": ".py",
   "mimetype": "text/x-python",
   "name": "python",
   "nbconvert_exporter": "python",
   "pygments_lexer": "ipython3",
   "version": "3.6.5"
  }
 },
 "nbformat": 4,
 "nbformat_minor": 2
}
