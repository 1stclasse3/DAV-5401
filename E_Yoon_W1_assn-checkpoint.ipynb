{
 "cells": [
  {
   "cell_type": "markdown",
   "metadata": {},
   "source": [
    "### a web link to my GitHub copy of the data set\n",
    "### https://github.com/yoonbs0123/DAV-5400/blob/master/steak-risk-survey.csv"
   ]
  },
  {
   "cell_type": "markdown",
   "metadata": {},
   "source": [
    "### the original weblink for the data set\n",
    "### https://github.com/fivethirtyeight/data/tree/master/steak-survey"
   ]
  },
  {
   "cell_type": "markdown",
   "metadata": {},
   "source": [
    "*** This dataset is about how Americans like their steak by age, gender, income, education etc. \n",
    "*** In personal experience, I always order my steak medium-rare to medium \n",
    "*** while I used to order my steak rare when I was teen. \n",
    "*** I wonder if there's any relationship between any relationship between age and steak rareness.\n",
    "*** Also, I want to see the relationship between risk-taking behavior and steak rareness as well. "
   ]
  }
 ],
 "metadata": {
  "kernelspec": {
   "display_name": "Python 3",
   "language": "python",
   "name": "python3"
  },
  "language_info": {
   "codemirror_mode": {
    "name": "ipython",
    "version": 3
   },
   "file_extension": ".py",
   "mimetype": "text/x-python",
   "name": "python",
   "nbconvert_exporter": "python",
   "pygments_lexer": "ipython3",
   "version": "3.6.5"
  }
 },
 "nbformat": 4,
 "nbformat_minor": 2
}
